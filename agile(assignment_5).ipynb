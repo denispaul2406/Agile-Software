{
  "nbformat": 4,
  "nbformat_minor": 0,
  "metadata": {
    "colab": {
      "provenance": [],
      "authorship_tag": "ABX9TyM8qobflsYAS2URd4OS4rQE",
      "include_colab_link": true
    },
    "kernelspec": {
      "name": "python3",
      "display_name": "Python 3"
    },
    "language_info": {
      "name": "python"
    }
  },
  "cells": [
    {
      "cell_type": "markdown",
      "metadata": {
        "id": "view-in-github",
        "colab_type": "text"
      },
      "source": [
        "<a href=\"https://colab.research.google.com/github/denispaul2406/Agile-Software/blob/main/agile(assignment_5).ipynb\" target=\"_parent\"><img src=\"https://colab.research.google.com/assets/colab-badge.svg\" alt=\"Open In Colab\"/></a>"
      ]
    },
    {
      "cell_type": "code",
      "execution_count": null,
      "metadata": {
        "id": "4fIXf2vFPjmK"
      },
      "outputs": [],
      "source": [
        "\"\"\"NEGATIVE TEST CASE\"\"\"\n",
        "\n",
        "import math\n",
        "import unittest\n",
        "def add_num(a,b):\n",
        "    sum=a+b;\n",
        "    return sum;\n",
        "num1=25\n",
        "num2=55\n",
        "print(\"The sum is\",add_num(num1,num2))\n",
        "\n",
        "class CalculatorTests(unittest.TestCase):\n",
        "  def test_add(self):\n",
        "    calc = add_num()\n",
        "    self.assertEqual(10, calc.add(7, 3))\n",
        "\n",
        "if __name__ == '__main__':\n",
        "    unittest.main()"
      ]
    },
    {
      "cell_type": "code",
      "source": [
        "\"\"\"POSITIVE TEST CASE\"\"\"\n",
        "\n",
        "import math\n",
        "import unittest\n",
        "def add_num(a,b):\n",
        "  return a+b\n",
        "\n",
        "class CalculatorTests(unittest.TestCase):\n",
        "  def test_add(self):\n",
        "    result = add_num(7,3)\n",
        "    self.assertEqual(result, 10)\n",
        "\n",
        "if __name__ == \"__main__\":\n",
        "    unittest.main()"
      ],
      "metadata": {
        "id": "eYML0p2KQtVl"
      },
      "execution_count": null,
      "outputs": []
    }
  ]
}